{
 "cells": [
  {
   "cell_type": "code",
   "execution_count": 4,
   "id": "a2de2efa-a9c3-451c-be5a-5469b22512ad",
   "metadata": {
    "collapsed": true,
    "jupyter": {
     "outputs_hidden": true
    },
    "tags": []
   },
   "outputs": [
    {
     "name": "stdout",
     "output_type": "stream",
     "text": [
      "Epoch 1/10\n"
     ]
    },
    {
     "name": "stderr",
     "output_type": "stream",
     "text": [
      "2024-10-07 22:35:37.060208: W tensorflow/tsl/platform/profile_utils/cpu_utils.cc:128] Failed to get CPU frequency: 0 Hz\n"
     ]
    },
    {
     "name": "stdout",
     "output_type": "stream",
     "text": [
      "606/606 [==============================] - 3s 4ms/step - loss: 0.6061 - accuracy: 0.7820\n",
      "Epoch 2/10\n",
      "606/606 [==============================] - 2s 4ms/step - loss: 0.1113 - accuracy: 0.9873\n",
      "Epoch 3/10\n",
      "606/606 [==============================] - 3s 4ms/step - loss: 0.0619 - accuracy: 0.9940\n",
      "Epoch 4/10\n",
      "606/606 [==============================] - 3s 4ms/step - loss: 0.0447 - accuracy: 0.9953\n",
      "Epoch 5/10\n",
      "606/606 [==============================] - 3s 4ms/step - loss: 0.0354 - accuracy: 0.9960\n",
      "Epoch 6/10\n",
      "606/606 [==============================] - 3s 4ms/step - loss: 0.0294 - accuracy: 0.9966\n",
      "Epoch 7/10\n",
      "606/606 [==============================] - 3s 4ms/step - loss: 0.0252 - accuracy: 0.9968\n",
      "Epoch 8/10\n",
      "606/606 [==============================] - 3s 4ms/step - loss: 0.0221 - accuracy: 0.9972\n",
      "Epoch 9/10\n",
      "606/606 [==============================] - 3s 4ms/step - loss: 0.0197 - accuracy: 0.9974\n",
      "Epoch 10/10\n",
      "606/606 [==============================] - 3s 4ms/step - loss: 0.0179 - accuracy: 0.9975\n"
     ]
    },
    {
     "data": {
      "text/plain": [
       "<keras.callbacks.History at 0x13f55ecd0>"
      ]
     },
     "execution_count": 4,
     "metadata": {},
     "output_type": "execute_result"
    }
   ],
   "source": [
    "import pandas as pd\n",
    "import numpy as np\n",
    "from sklearn.model_selection import train_test_split\n",
    "from sklearn.preprocessing import StandardScaler\n",
    "from tensorflow.keras.models import Sequential\n",
    "from tensorflow.keras.layers import Dense, Conv1D, MaxPooling1D, Flatten, Dropout\n",
    "import time\n",
    "import psutil\n",
    "import os\n",
    "\n",
    "\n",
    "df1 = pd.read_csv('sms-call-internet-mi-2013-11-04.csv')\n",
    "df2 = pd.read_csv('sms-call-internet-mi-2013-11-05.csv')\n",
    "df3 = pd.read_csv('sms-call-internet-mi-2013-11-06.csv')\n",
    "df4 = pd.read_csv('sms-call-internet-mi-2013-11-07.csv')\n",
    "df5 = pd.read_csv('sms-call-internet-mi-2013-11-08.csv')\n",
    "df6 = pd.read_csv('sms-call-internet-mi-2013-11-09.csv')\n",
    "df7 = pd.read_csv('sms-call-internet-mi-2013-11-10.csv')\n",
    "\n",
    "dfs = [df1, df2, df3, df4, df5, df6, df7]\n",
    "df = pd.concat(dfs, ignore_index=True)\n",
    "df = df.drop(columns=['datetime'])\n",
    "df.dropna(inplace=True)\n",
    "cols = [\"smsin\", \"smsout\", \"callin\", \"callout\", \"internet\"]\n",
    "df[\"total_activity\"] = df[cols].sum(axis=1)\n",
    "\n",
    "def assign_activity(total_activity):\n",
    "    if total_activity <= 20:\n",
    "        return 1\n",
    "    elif total_activity <= 40:\n",
    "        return 2\n",
    "    elif total_activity <= 60:\n",
    "        return 3\n",
    "    elif total_activity <= 80:\n",
    "        return 4\n",
    "    elif total_activity <= 100:\n",
    "        return 5\n",
    "    else:\n",
    "        return 6\n",
    "\n",
    "df['activity_number'] = df['total_activity'].apply(assign_activity)\n",
    "df['activity_number'] = df['activity_number'] - 1\n",
    "\n",
    "\n",
    "X = df[[\"smsin\", \"smsout\", \"callin\", \"callout\", \"internet\"]]\n",
    "y = df[\"activity_number\"]\n",
    "\n",
    "X_train, X_test, y_train, y_test = train_test_split(X, y, test_size=0.2, random_state=99)\n",
    "\n",
    "\n",
    "scaler = StandardScaler()\n",
    "X_train = scaler.fit_transform(X_train)\n",
    "X_test = scaler.transform(X_test)\n",
    "\n",
    "\n",
    "\n",
    "model = Sequential()\n",
    "model.add(Conv1D(filters = 32, kernel_size=2, activation='relu', input_shape=(X_train.shape[1],1)))\n",
    "#model.add(MaxPooling1D(pool_size=2))\n",
    "#model.add(Dropout(0.25)) \n",
    "\n",
    "model.add(Flatten())\n",
    "#model.add(Dense(64, activation='relu'))\n",
    "#model.add(Dropout(0.25)) \n",
    "model.add(Dense(32, activation='relu'))\n",
    "model.add(Dense(6, activation='softmax'))  \n",
    "\n",
    "model.compile(loss='sparse_categorical_crossentropy', optimizer='adam', metrics=['accuracy'])\n",
    "\n",
    "model.fit(X_train, y_train, epochs=10, batch_size=10000)\n"
   ]
  }
 ],
 "metadata": {
  "kernelspec": {
   "display_name": "Python 3 (ipykernel)",
   "language": "python",
   "name": "python3"
  },
  "language_info": {
   "codemirror_mode": {
    "name": "ipython",
    "version": 3
   },
   "file_extension": ".py",
   "mimetype": "text/x-python",
   "name": "python",
   "nbconvert_exporter": "python",
   "pygments_lexer": "ipython3",
   "version": "3.11.4"
  }
 },
 "nbformat": 4,
 "nbformat_minor": 5
}
