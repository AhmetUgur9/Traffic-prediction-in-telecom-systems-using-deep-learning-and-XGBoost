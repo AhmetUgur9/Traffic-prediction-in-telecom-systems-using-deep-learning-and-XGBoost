{
 "cells": [
  {
   "cell_type": "code",
   "execution_count": 18,
   "id": "3db0fc32-e1bc-4fe2-bae7-2d022419ca5a",
   "metadata": {
    "collapsed": true,
    "jupyter": {
     "outputs_hidden": true
    },
    "tags": []
   },
   "outputs": [
    {
     "name": "stdout",
     "output_type": "stream",
     "text": [
      "Epoch 1/10\n",
      "606/606 [==============================] - 20s 32ms/step - loss: 0.4573 - accuracy: 0.8519\n",
      "Epoch 2/10\n",
      "606/606 [==============================] - 100s 165ms/step - loss: 0.0834 - accuracy: 0.9827\n",
      "Epoch 3/10\n",
      "606/606 [==============================] - 19s 32ms/step - loss: 0.0493 - accuracy: 0.9875\n",
      "Epoch 4/10\n",
      "606/606 [==============================] - 21s 34ms/step - loss: 0.0372 - accuracy: 0.9894\n",
      "Epoch 5/10\n",
      "606/606 [==============================] - 21s 34ms/step - loss: 0.0303 - accuracy: 0.9909\n",
      "Epoch 6/10\n",
      "606/606 [==============================] - 21s 35ms/step - loss: 0.0263 - accuracy: 0.9917\n",
      "Epoch 7/10\n",
      "606/606 [==============================] - 21s 35ms/step - loss: 0.0238 - accuracy: 0.9919\n",
      "Epoch 8/10\n",
      "606/606 [==============================] - 21s 34ms/step - loss: 0.0209 - accuracy: 0.9930\n",
      "Epoch 9/10\n",
      "606/606 [==============================] - 22s 36ms/step - loss: 0.0200 - accuracy: 0.9928\n",
      "Epoch 10/10\n",
      "606/606 [==============================] - 21s 35ms/step - loss: 0.0182 - accuracy: 0.9935\n",
      "CPU Usage: 1.7%\n"
     ]
    }
   ],
   "source": [
    "import pandas as pd\n",
    "import numpy as np\n",
    "from sklearn.model_selection import train_test_split\n",
    "from sklearn.preprocessing import StandardScaler\n",
    "from tensorflow.keras.models import Sequential\n",
    "from tensorflow.keras.layers import Dense, SimpleRNN, Dropout\n",
    "import time\n",
    "import psutil\n",
    "\n",
    "df1 = pd.read_csv('sms-call-internet-mi-2013-11-04.csv')\n",
    "df2 = pd.read_csv('sms-call-internet-mi-2013-11-05.csv')\n",
    "df3 = pd.read_csv('sms-call-internet-mi-2013-11-06.csv')\n",
    "df4 = pd.read_csv('sms-call-internet-mi-2013-11-07.csv')\n",
    "df5 = pd.read_csv('sms-call-internet-mi-2013-11-08.csv')\n",
    "df6 = pd.read_csv('sms-call-internet-mi-2013-11-09.csv')\n",
    "df7 = pd.read_csv('sms-call-internet-mi-2013-11-10.csv')\n",
    "\n",
    "dfs = [df1, df2, df3, df4, df5, df6, df7]\n",
    "df = pd.concat(dfs, ignore_index=True)\n",
    "df = df.drop(columns=['datetime'])\n",
    "df.dropna(inplace=True)\n",
    "\n",
    "\n",
    "cols = [\"smsin\", \"smsout\", \"callin\", \"callout\", \"internet\"]\n",
    "df[\"total_activity\"] = df[cols].sum(axis=1)\n",
    "\n",
    "\n",
    "def assign_activity(total_activity):\n",
    "    if total_activity <= 20:\n",
    "        return 1\n",
    "    elif total_activity <= 40:\n",
    "        return 2\n",
    "    elif total_activity <= 60:\n",
    "        return 3\n",
    "    elif total_activity <= 80:\n",
    "        return 4\n",
    "    elif total_activity <= 100:\n",
    "        return 5\n",
    "    else:\n",
    "        return 6\n",
    "\n",
    "df['activity_number'] = df['total_activity'].apply(assign_activity)\n",
    "df['activity_number'] = df['activity_number'] - 1\n",
    "\n",
    "X = df[[\"smsin\", \"smsout\", \"callin\", \"callout\", \"internet\"]]\n",
    "y = df[[\"activity_number\"]]\n",
    "\n",
    "\n",
    "X_train, X_test, y_train, y_test = train_test_split(X, y, test_size=0.2, random_state=99)\n",
    "\n",
    "\n",
    "scaler = StandardScaler()\n",
    "X_train = scaler.fit_transform(X_train)\n",
    "X_test = scaler.transform(X_test)\n",
    "\n",
    "\n",
    "model = Sequential()\n",
    "model.add(SimpleRNN(64, input_shape=(X_train.shape[1], 1), return_sequences=True))\n",
    "model.add(SimpleRNN(32, return_sequences=True))\n",
    "model.add(SimpleRNN(16, return_sequences=False))\n",
    "model.add(Dense(6, activation='softmax'))\n",
    "\n",
    "model.compile(loss='sparse_categorical_crossentropy', optimizer='adam', metrics=['accuracy'])\n",
    "\n",
    "\n",
    "\n",
    "model.fit(X_train, y_train, epochs=10, batch_size=10000)\n"
   ]
  }
 ],
 "metadata": {
  "kernelspec": {
   "display_name": "Python 3 (ipykernel)",
   "language": "python",
   "name": "python3"
  },
  "language_info": {
   "codemirror_mode": {
    "name": "ipython",
    "version": 3
   },
   "file_extension": ".py",
   "mimetype": "text/x-python",
   "name": "python",
   "nbconvert_exporter": "python",
   "pygments_lexer": "ipython3",
   "version": "3.11.4"
  }
 },
 "nbformat": 4,
 "nbformat_minor": 5
}
